{
 "cells": [
  {
   "cell_type": "code",
   "execution_count": 1,
   "id": "11fc8735",
   "metadata": {
    "_cell_guid": "b1076dfc-b9ad-4769-8c92-a6c4dae69d19",
    "_uuid": "8f2839f25d086af736a60e9eeb907d3b93b6e0e5",
    "execution": {
     "iopub.execute_input": "2025-05-13T13:03:32.095380Z",
     "iopub.status.busy": "2025-05-13T13:03:32.095098Z",
     "iopub.status.idle": "2025-05-13T13:03:33.673420Z",
     "shell.execute_reply": "2025-05-13T13:03:33.672453Z"
    },
    "papermill": {
     "duration": 1.585879,
     "end_time": "2025-05-13T13:03:33.674899",
     "exception": false,
     "start_time": "2025-05-13T13:03:32.089020",
     "status": "completed"
    },
    "tags": []
   },
   "outputs": [
    {
     "name": "stdout",
     "output_type": "stream",
     "text": [
      "/kaggle/input/time-series-cushing-ok-wti-oil-prices/RWTCd CUSHING OK WTI SPOT PRICES FOB Daily.xls\n",
      "/kaggle/input/time-series-cushing-ok-wti-oil-prices/RWTCd CUSHING OK WTI SPOT PRICES FOB annual.xls\n",
      "/kaggle/input/time-series-cushing-ok-wti-oil-prices/RWTCd CUSHING OK WTI SPOT PRICES FOB monthly.xls\n",
      "/kaggle/input/time-series-cushing-ok-wti-oil-prices/RWTCd CUSHING OK WTI SPOT PRICES FOB weekly.xls\n"
     ]
    }
   ],
   "source": [
    "# This Python 3 environment comes with many helpful analytics libraries installed\n",
    "# It is defined by the kaggle/python Docker image: https://github.com/kaggle/docker-python\n",
    "# For example, here's several helpful packages to load\n",
    "\n",
    "import numpy as np # linear algebra\n",
    "import pandas as pd # data processing, CSV file I/O (e.g. pd.read_csv)\n",
    "\n",
    "# Input data files are available in the read-only \"../input/\" directory\n",
    "# For example, running this (by clicking run or pressing Shift+Enter) will list all files under the input directory\n",
    "\n",
    "import os\n",
    "for dirname, _, filenames in os.walk('/kaggle/input'):\n",
    "    for filename in filenames:\n",
    "        print(os.path.join(dirname, filename))\n",
    "\n",
    "# You can write up to 20GB to the current directory (/kaggle/working/) that gets preserved as output when you create a version using \"Save & Run All\" \n",
    "# You can also write temporary files to /kaggle/temp/, but they won't be saved outside of the current session"
   ]
  },
  {
   "cell_type": "code",
   "execution_count": 2,
   "id": "5daa68b6",
   "metadata": {
    "execution": {
     "iopub.execute_input": "2025-05-13T13:03:33.684388Z",
     "iopub.status.busy": "2025-05-13T13:03:33.684059Z",
     "iopub.status.idle": "2025-05-13T13:03:33.885934Z",
     "shell.execute_reply": "2025-05-13T13:03:33.885128Z"
    },
    "papermill": {
     "duration": 0.207938,
     "end_time": "2025-05-13T13:03:33.887287",
     "exception": false,
     "start_time": "2025-05-13T13:03:33.679349",
     "status": "completed"
    },
    "tags": []
   },
   "outputs": [
    {
     "data": {
      "text/html": [
       "<div>\n",
       "<style scoped>\n",
       "    .dataframe tbody tr th:only-of-type {\n",
       "        vertical-align: middle;\n",
       "    }\n",
       "\n",
       "    .dataframe tbody tr th {\n",
       "        vertical-align: top;\n",
       "    }\n",
       "\n",
       "    .dataframe thead th {\n",
       "        text-align: right;\n",
       "    }\n",
       "</style>\n",
       "<table border=\"1\" class=\"dataframe\">\n",
       "  <thead>\n",
       "    <tr style=\"text-align: right;\">\n",
       "      <th></th>\n",
       "      <th>Back to Contents</th>\n",
       "      <th>Data 1: Cushing, OK WTI Spot Price FOB (Dollars per Barrel)</th>\n",
       "    </tr>\n",
       "  </thead>\n",
       "  <tbody>\n",
       "    <tr>\n",
       "      <th>2</th>\n",
       "      <td>1986-01-02 00:00:00</td>\n",
       "      <td>25.56</td>\n",
       "    </tr>\n",
       "    <tr>\n",
       "      <th>3</th>\n",
       "      <td>1986-01-03 00:00:00</td>\n",
       "      <td>26</td>\n",
       "    </tr>\n",
       "    <tr>\n",
       "      <th>4</th>\n",
       "      <td>1986-01-06 00:00:00</td>\n",
       "      <td>26.53</td>\n",
       "    </tr>\n",
       "    <tr>\n",
       "      <th>5</th>\n",
       "      <td>1986-01-07 00:00:00</td>\n",
       "      <td>25.85</td>\n",
       "    </tr>\n",
       "    <tr>\n",
       "      <th>6</th>\n",
       "      <td>1986-01-08 00:00:00</td>\n",
       "      <td>25.87</td>\n",
       "    </tr>\n",
       "  </tbody>\n",
       "</table>\n",
       "</div>"
      ],
      "text/plain": [
       "      Back to Contents  \\\n",
       "2  1986-01-02 00:00:00   \n",
       "3  1986-01-03 00:00:00   \n",
       "4  1986-01-06 00:00:00   \n",
       "5  1986-01-07 00:00:00   \n",
       "6  1986-01-08 00:00:00   \n",
       "\n",
       "  Data 1: Cushing, OK WTI Spot Price FOB (Dollars per Barrel)  \n",
       "2                                              25.56           \n",
       "3                                                 26           \n",
       "4                                              26.53           \n",
       "5                                              25.85           \n",
       "6                                              25.87           "
      ]
     },
     "execution_count": 2,
     "metadata": {},
     "output_type": "execute_result"
    }
   ],
   "source": [
    "df = pd.read_excel('/kaggle/input/time-series-cushing-ok-wti-oil-prices/RWTCd CUSHING OK WTI SPOT PRICES FOB Daily.xls', sheet_name='Data 1').drop([0,1],axis=0)\n",
    "df.head()"
   ]
  },
  {
   "cell_type": "code",
   "execution_count": 3,
   "id": "f88fe948",
   "metadata": {
    "execution": {
     "iopub.execute_input": "2025-05-13T13:03:33.896912Z",
     "iopub.status.busy": "2025-05-13T13:03:33.896410Z",
     "iopub.status.idle": "2025-05-13T13:03:33.903374Z",
     "shell.execute_reply": "2025-05-13T13:03:33.902718Z"
    },
    "papermill": {
     "duration": 0.012873,
     "end_time": "2025-05-13T13:03:33.904612",
     "exception": false,
     "start_time": "2025-05-13T13:03:33.891739",
     "status": "completed"
    },
    "tags": []
   },
   "outputs": [
    {
     "data": {
      "text/plain": [
       "2       25.56\n",
       "3          26\n",
       "4       26.53\n",
       "5       25.85\n",
       "6       25.87\n",
       "        ...  \n",
       "8748    38.29\n",
       "8749    40.17\n",
       "8750    40.99\n",
       "8751    41.09\n",
       "8752    39.26\n",
       "Name: Data 1: Cushing, OK WTI Spot Price FOB (Dollars per Barrel), Length: 8751, dtype: object"
      ]
     },
     "execution_count": 3,
     "metadata": {},
     "output_type": "execute_result"
    }
   ],
   "source": [
    "wti_series = pd.Series(df['Data 1: Cushing, OK WTI Spot Price FOB (Dollars per Barrel)'])\n",
    "wti_series"
   ]
  },
  {
   "cell_type": "code",
   "execution_count": 4,
   "id": "71e74587",
   "metadata": {
    "execution": {
     "iopub.execute_input": "2025-05-13T13:03:33.913962Z",
     "iopub.status.busy": "2025-05-13T13:03:33.913656Z",
     "iopub.status.idle": "2025-05-13T13:03:33.920269Z",
     "shell.execute_reply": "2025-05-13T13:03:33.919529Z"
    },
    "papermill": {
     "duration": 0.012445,
     "end_time": "2025-05-13T13:03:33.921475",
     "exception": false,
     "start_time": "2025-05-13T13:03:33.909030",
     "status": "completed"
    },
    "tags": []
   },
   "outputs": [],
   "source": [
    "wti_series = wti_series.reset_index().drop(['index'],axis=1)"
   ]
  },
  {
   "cell_type": "code",
   "execution_count": 5,
   "id": "7540a2b9",
   "metadata": {
    "execution": {
     "iopub.execute_input": "2025-05-13T13:03:33.930536Z",
     "iopub.status.busy": "2025-05-13T13:03:33.930317Z",
     "iopub.status.idle": "2025-05-13T13:03:33.934496Z",
     "shell.execute_reply": "2025-05-13T13:03:33.933766Z"
    },
    "papermill": {
     "duration": 0.010139,
     "end_time": "2025-05-13T13:03:33.935712",
     "exception": false,
     "start_time": "2025-05-13T13:03:33.925573",
     "status": "completed"
    },
    "tags": []
   },
   "outputs": [],
   "source": [
    "wti_series = wti_series.rename(columns = {'Data 1: Cushing, OK WTI Spot Price FOB (Dollars per Barrel)':'wti_spot_price'})"
   ]
  },
  {
   "cell_type": "code",
   "execution_count": 6,
   "id": "9689726d",
   "metadata": {
    "execution": {
     "iopub.execute_input": "2025-05-13T13:03:33.944557Z",
     "iopub.status.busy": "2025-05-13T13:03:33.944344Z",
     "iopub.status.idle": "2025-05-13T13:03:33.950049Z",
     "shell.execute_reply": "2025-05-13T13:03:33.949452Z"
    },
    "papermill": {
     "duration": 0.011382,
     "end_time": "2025-05-13T13:03:33.951154",
     "exception": false,
     "start_time": "2025-05-13T13:03:33.939772",
     "status": "completed"
    },
    "tags": []
   },
   "outputs": [
    {
     "data": {
      "text/plain": [
       "0       25.56\n",
       "1          26\n",
       "2       26.53\n",
       "3       25.85\n",
       "4       25.87\n",
       "        ...  \n",
       "8746    38.29\n",
       "8747    40.17\n",
       "8748    40.99\n",
       "8749    41.09\n",
       "8750    39.26\n",
       "Name: wti_spot_price, Length: 8751, dtype: object"
      ]
     },
     "execution_count": 6,
     "metadata": {},
     "output_type": "execute_result"
    }
   ],
   "source": [
    "wti_series = pd.Series(wti_series['wti_spot_price'])\n",
    "wti_series"
   ]
  },
  {
   "cell_type": "code",
   "execution_count": 7,
   "id": "0644a0b2",
   "metadata": {
    "execution": {
     "iopub.execute_input": "2025-05-13T13:03:33.960336Z",
     "iopub.status.busy": "2025-05-13T13:03:33.960143Z",
     "iopub.status.idle": "2025-05-13T13:03:33.963742Z",
     "shell.execute_reply": "2025-05-13T13:03:33.963189Z"
    },
    "papermill": {
     "duration": 0.009447,
     "end_time": "2025-05-13T13:03:33.964901",
     "exception": false,
     "start_time": "2025-05-13T13:03:33.955454",
     "status": "completed"
    },
    "tags": []
   },
   "outputs": [],
   "source": [
    "x_train = wti_series[:int(17*len(wti_series)/20)]\n",
    "x_test = wti_series[int(17*len(wti_series)/20):]"
   ]
  },
  {
   "cell_type": "code",
   "execution_count": 8,
   "id": "ba89ed3f",
   "metadata": {
    "execution": {
     "iopub.execute_input": "2025-05-13T13:03:33.974074Z",
     "iopub.status.busy": "2025-05-13T13:03:33.973798Z",
     "iopub.status.idle": "2025-05-13T13:03:48.654038Z",
     "shell.execute_reply": "2025-05-13T13:03:48.653145Z"
    },
    "papermill": {
     "duration": 14.686522,
     "end_time": "2025-05-13T13:03:48.655593",
     "exception": false,
     "start_time": "2025-05-13T13:03:33.969071",
     "status": "completed"
    },
    "tags": []
   },
   "outputs": [
    {
     "name": "stderr",
     "output_type": "stream",
     "text": [
      "2025-05-13 13:03:35.453227: E external/local_xla/xla/stream_executor/cuda/cuda_fft.cc:477] Unable to register cuFFT factory: Attempting to register factory for plugin cuFFT when one has already been registered\n",
      "WARNING: All log messages before absl::InitializeLog() is called are written to STDERR\n",
      "E0000 00:00:1747141415.649320      13 cuda_dnn.cc:8310] Unable to register cuDNN factory: Attempting to register factory for plugin cuDNN when one has already been registered\n",
      "E0000 00:00:1747141415.707725      13 cuda_blas.cc:1418] Unable to register cuBLAS factory: Attempting to register factory for plugin cuBLAS when one has already been registered\n"
     ]
    }
   ],
   "source": [
    "import tensorflow as tf"
   ]
  },
  {
   "cell_type": "code",
   "execution_count": 9,
   "id": "d8767f68",
   "metadata": {
    "execution": {
     "iopub.execute_input": "2025-05-13T13:03:48.666532Z",
     "iopub.status.busy": "2025-05-13T13:03:48.665659Z",
     "iopub.status.idle": "2025-05-13T13:03:48.671930Z",
     "shell.execute_reply": "2025-05-13T13:03:48.671120Z"
    },
    "papermill": {
     "duration": 0.012937,
     "end_time": "2025-05-13T13:03:48.673224",
     "exception": false,
     "start_time": "2025-05-13T13:03:48.660287",
     "status": "completed"
    },
    "tags": []
   },
   "outputs": [],
   "source": [
    "def windowed_ds(series,window_size,shuffle_buffer_size,batch_size):\n",
    "    series = pd.Series(series).astype(np.float32).values\n",
    "    ds = tf.data.Dataset.from_tensor_slices(series)\n",
    "    ds = ds.window(window_size+1, shift = 1, drop_remainder = True)\n",
    "    ds = ds.flat_map(lambda window: window.batch(window_size+1))\n",
    "    ds = ds.shuffle(shuffle_buffer_size)\n",
    "    ds = ds.map(lambda window: (window[:-1],window[-1]))\n",
    "    ds = ds.batch(batch_size).prefetch(1)\n",
    "    return ds"
   ]
  },
  {
   "cell_type": "code",
   "execution_count": 10,
   "id": "8b23c934",
   "metadata": {
    "execution": {
     "iopub.execute_input": "2025-05-13T13:03:48.682848Z",
     "iopub.status.busy": "2025-05-13T13:03:48.682284Z",
     "iopub.status.idle": "2025-05-13T13:03:48.685895Z",
     "shell.execute_reply": "2025-05-13T13:03:48.685255Z"
    },
    "papermill": {
     "duration": 0.009596,
     "end_time": "2025-05-13T13:03:48.687103",
     "exception": false,
     "start_time": "2025-05-13T13:03:48.677507",
     "status": "completed"
    },
    "tags": []
   },
   "outputs": [],
   "source": [
    "window_size = 20\n",
    "shuffle_buffer_size = 10000\n",
    "batch_size = 16"
   ]
  },
  {
   "cell_type": "code",
   "execution_count": 11,
   "id": "66ed64f2",
   "metadata": {
    "execution": {
     "iopub.execute_input": "2025-05-13T13:03:48.696445Z",
     "iopub.status.busy": "2025-05-13T13:03:48.696062Z",
     "iopub.status.idle": "2025-05-13T13:03:48.829936Z",
     "shell.execute_reply": "2025-05-13T13:03:48.829068Z"
    },
    "papermill": {
     "duration": 0.14011,
     "end_time": "2025-05-13T13:03:48.831395",
     "exception": false,
     "start_time": "2025-05-13T13:03:48.691285",
     "status": "completed"
    },
    "tags": []
   },
   "outputs": [
    {
     "name": "stderr",
     "output_type": "stream",
     "text": [
      "2025-05-13 13:03:48.700542: E external/local_xla/xla/stream_executor/cuda/cuda_driver.cc:152] failed call to cuInit: INTERNAL: CUDA error: Failed call to cuInit: UNKNOWN ERROR (303)\n"
     ]
    }
   ],
   "source": [
    "x_tr = windowed_ds(x_train,window_size,shuffle_buffer_size,batch_size)\n",
    "x_ts = windowed_ds(x_test,window_size,shuffle_buffer_size,batch_size)"
   ]
  },
  {
   "cell_type": "code",
   "execution_count": 12,
   "id": "74aac817",
   "metadata": {
    "execution": {
     "iopub.execute_input": "2025-05-13T13:03:48.841227Z",
     "iopub.status.busy": "2025-05-13T13:03:48.840976Z",
     "iopub.status.idle": "2025-05-13T13:03:49.004456Z",
     "shell.execute_reply": "2025-05-13T13:03:49.003808Z"
    },
    "papermill": {
     "duration": 0.170015,
     "end_time": "2025-05-13T13:03:49.005924",
     "exception": false,
     "start_time": "2025-05-13T13:03:48.835909",
     "status": "completed"
    },
    "tags": []
   },
   "outputs": [
    {
     "name": "stderr",
     "output_type": "stream",
     "text": [
      "/usr/local/lib/python3.11/dist-packages/keras/src/layers/convolutional/base_conv.py:107: UserWarning: Do not pass an `input_shape`/`input_dim` argument to a layer. When using Sequential models, prefer using an `Input(shape)` object as the first layer in the model instead.\n",
      "  super().__init__(activity_regularizer=activity_regularizer, **kwargs)\n"
     ]
    }
   ],
   "source": [
    "model = tf.keras.models.Sequential([tf.keras.layers.Conv1D(filters = 64, strides=1,kernel_size=7,padding ='causal',activation = 'relu', input_shape=[None,1]),\n",
    "                                   tf.keras.layers.LSTM(64,return_sequences=True),\n",
    "                                   tf.keras.layers.LSTM(64),\n",
    "                                    tf.keras.layers.Dense(30, activation ='relu'),\n",
    "                                    tf.keras.layers.Dense(10, activation = 'relu'),\n",
    "                                   tf.keras.layers.Dense(1, activation = 'relu'),\n",
    "                                   tf.keras.layers.Lambda(lambda x:x*400)])"
   ]
  },
  {
   "cell_type": "code",
   "execution_count": 13,
   "id": "e8f9881f",
   "metadata": {
    "execution": {
     "iopub.execute_input": "2025-05-13T13:03:49.016541Z",
     "iopub.status.busy": "2025-05-13T13:03:49.016083Z",
     "iopub.status.idle": "2025-05-13T13:03:49.025048Z",
     "shell.execute_reply": "2025-05-13T13:03:49.024440Z"
    },
    "papermill": {
     "duration": 0.015694,
     "end_time": "2025-05-13T13:03:49.026264",
     "exception": false,
     "start_time": "2025-05-13T13:03:49.010570",
     "status": "completed"
    },
    "tags": []
   },
   "outputs": [],
   "source": [
    "lr_scheduler = tf.keras.callbacks.LearningRateScheduler(lambda epoch: 1e-8 * 10**(epoch/20))\n",
    "optimizer = tf.keras.optimizers.SGD(learning_rate = 1e-6, momentum = 0.9)"
   ]
  },
  {
   "cell_type": "code",
   "execution_count": 14,
   "id": "d190d41c",
   "metadata": {
    "execution": {
     "iopub.execute_input": "2025-05-13T13:03:49.036117Z",
     "iopub.status.busy": "2025-05-13T13:03:49.035504Z",
     "iopub.status.idle": "2025-05-13T13:03:49.042382Z",
     "shell.execute_reply": "2025-05-13T13:03:49.041838Z"
    },
    "papermill": {
     "duration": 0.012885,
     "end_time": "2025-05-13T13:03:49.043497",
     "exception": false,
     "start_time": "2025-05-13T13:03:49.030612",
     "status": "completed"
    },
    "tags": []
   },
   "outputs": [],
   "source": [
    "model.compile(optimizer = optimizer, loss = tf.keras.losses.Huber, metrics = ['mae'])"
   ]
  },
  {
   "cell_type": "code",
   "execution_count": 15,
   "id": "68616f96",
   "metadata": {
    "execution": {
     "iopub.execute_input": "2025-05-13T13:03:49.052791Z",
     "iopub.status.busy": "2025-05-13T13:03:49.052591Z",
     "iopub.status.idle": "2025-05-13T13:09:35.322528Z",
     "shell.execute_reply": "2025-05-13T13:09:35.321863Z"
    },
    "papermill": {
     "duration": 346.276209,
     "end_time": "2025-05-13T13:09:35.324007",
     "exception": false,
     "start_time": "2025-05-13T13:03:49.047798",
     "status": "completed"
    },
    "tags": []
   },
   "outputs": [
    {
     "name": "stdout",
     "output_type": "stream",
     "text": [
      "Epoch 1/50\n",
      "\u001b[1m464/464\u001b[0m \u001b[32m━━━━━━━━━━━━━━━━━━━━\u001b[0m\u001b[37m\u001b[0m \u001b[1m11s\u001b[0m 14ms/step - loss: 40.5723 - mae: 41.0723 - learning_rate: 1.0000e-08\n",
      "Epoch 2/50\n"
     ]
    },
    {
     "name": "stderr",
     "output_type": "stream",
     "text": [
      "/usr/local/lib/python3.11/dist-packages/keras/src/trainers/epoch_iterator.py:151: UserWarning: Your input ran out of data; interrupting training. Make sure that your dataset or generator can generate at least `steps_per_epoch * epochs` batches. You may need to use the `.repeat()` function when building your dataset.\n",
      "  self._interrupted_warning()\n"
     ]
    },
    {
     "name": "stdout",
     "output_type": "stream",
     "text": [
      "\u001b[1m464/464\u001b[0m \u001b[32m━━━━━━━━━━━━━━━━━━━━\u001b[0m\u001b[37m\u001b[0m \u001b[1m7s\u001b[0m 13ms/step - loss: 31.5936 - mae: 32.0934 - learning_rate: 1.1220e-08\n",
      "Epoch 3/50\n",
      "\u001b[1m464/464\u001b[0m \u001b[32m━━━━━━━━━━━━━━━━━━━━\u001b[0m\u001b[37m\u001b[0m \u001b[1m7s\u001b[0m 13ms/step - loss: 7.3331 - mae: 7.7915 - learning_rate: 1.2589e-08\n",
      "Epoch 4/50\n",
      "\u001b[1m464/464\u001b[0m \u001b[32m━━━━━━━━━━━━━━━━━━━━\u001b[0m\u001b[37m\u001b[0m \u001b[1m7s\u001b[0m 13ms/step - loss: 4.8738 - mae: 5.3079 - learning_rate: 1.4125e-08\n",
      "Epoch 5/50\n",
      "\u001b[1m464/464\u001b[0m \u001b[32m━━━━━━━━━━━━━━━━━━━━\u001b[0m\u001b[37m\u001b[0m \u001b[1m7s\u001b[0m 13ms/step - loss: 3.6089 - mae: 4.0172 - learning_rate: 1.5849e-08\n",
      "Epoch 6/50\n",
      "\u001b[1m464/464\u001b[0m \u001b[32m━━━━━━━━━━━━━━━━━━━━\u001b[0m\u001b[37m\u001b[0m \u001b[1m7s\u001b[0m 14ms/step - loss: 2.6703 - mae: 3.0601 - learning_rate: 1.7783e-08\n",
      "Epoch 7/50\n",
      "\u001b[1m464/464\u001b[0m \u001b[32m━━━━━━━━━━━━━━━━━━━━\u001b[0m\u001b[37m\u001b[0m \u001b[1m7s\u001b[0m 13ms/step - loss: 2.1507 - mae: 2.5389 - learning_rate: 1.9953e-08\n",
      "Epoch 8/50\n",
      "\u001b[1m464/464\u001b[0m \u001b[32m━━━━━━━━━━━━━━━━━━━━\u001b[0m\u001b[37m\u001b[0m \u001b[1m7s\u001b[0m 13ms/step - loss: 1.7996 - mae: 2.1858 - learning_rate: 2.2387e-08\n",
      "Epoch 9/50\n",
      "\u001b[1m464/464\u001b[0m \u001b[32m━━━━━━━━━━━━━━━━━━━━\u001b[0m\u001b[37m\u001b[0m \u001b[1m7s\u001b[0m 13ms/step - loss: 1.5612 - mae: 1.9366 - learning_rate: 2.5119e-08\n",
      "Epoch 10/50\n",
      "\u001b[1m464/464\u001b[0m \u001b[32m━━━━━━━━━━━━━━━━━━━━\u001b[0m\u001b[37m\u001b[0m \u001b[1m7s\u001b[0m 13ms/step - loss: 1.5163 - mae: 1.8921 - learning_rate: 2.8184e-08\n",
      "Epoch 11/50\n",
      "\u001b[1m464/464\u001b[0m \u001b[32m━━━━━━━━━━━━━━━━━━━━\u001b[0m\u001b[37m\u001b[0m \u001b[1m7s\u001b[0m 14ms/step - loss: 1.2817 - mae: 1.6494 - learning_rate: 3.1623e-08\n",
      "Epoch 12/50\n",
      "\u001b[1m464/464\u001b[0m \u001b[32m━━━━━━━━━━━━━━━━━━━━\u001b[0m\u001b[37m\u001b[0m \u001b[1m7s\u001b[0m 13ms/step - loss: 1.2918 - mae: 1.6647 - learning_rate: 3.5481e-08\n",
      "Epoch 13/50\n",
      "\u001b[1m464/464\u001b[0m \u001b[32m━━━━━━━━━━━━━━━━━━━━\u001b[0m\u001b[37m\u001b[0m \u001b[1m7s\u001b[0m 13ms/step - loss: 1.1751 - mae: 1.5419 - learning_rate: 3.9811e-08\n",
      "Epoch 14/50\n",
      "\u001b[1m464/464\u001b[0m \u001b[32m━━━━━━━━━━━━━━━━━━━━\u001b[0m\u001b[37m\u001b[0m \u001b[1m7s\u001b[0m 13ms/step - loss: 1.1233 - mae: 1.4922 - learning_rate: 4.4668e-08\n",
      "Epoch 15/50\n",
      "\u001b[1m464/464\u001b[0m \u001b[32m━━━━━━━━━━━━━━━━━━━━\u001b[0m\u001b[37m\u001b[0m \u001b[1m7s\u001b[0m 13ms/step - loss: 1.0504 - mae: 1.4167 - learning_rate: 5.0119e-08\n",
      "Epoch 16/50\n",
      "\u001b[1m464/464\u001b[0m \u001b[32m━━━━━━━━━━━━━━━━━━━━\u001b[0m\u001b[37m\u001b[0m \u001b[1m7s\u001b[0m 14ms/step - loss: 1.0242 - mae: 1.3884 - learning_rate: 5.6234e-08\n",
      "Epoch 17/50\n",
      "\u001b[1m464/464\u001b[0m \u001b[32m━━━━━━━━━━━━━━━━━━━━\u001b[0m\u001b[37m\u001b[0m \u001b[1m7s\u001b[0m 13ms/step - loss: 0.9533 - mae: 1.3151 - learning_rate: 6.3096e-08\n",
      "Epoch 18/50\n",
      "\u001b[1m464/464\u001b[0m \u001b[32m━━━━━━━━━━━━━━━━━━━━\u001b[0m\u001b[37m\u001b[0m \u001b[1m7s\u001b[0m 13ms/step - loss: 0.9790 - mae: 1.3551 - learning_rate: 7.0795e-08\n",
      "Epoch 19/50\n",
      "\u001b[1m464/464\u001b[0m \u001b[32m━━━━━━━━━━━━━━━━━━━━\u001b[0m\u001b[37m\u001b[0m \u001b[1m7s\u001b[0m 13ms/step - loss: 0.8728 - mae: 1.2405 - learning_rate: 7.9433e-08\n",
      "Epoch 20/50\n",
      "\u001b[1m464/464\u001b[0m \u001b[32m━━━━━━━━━━━━━━━━━━━━\u001b[0m\u001b[37m\u001b[0m \u001b[1m7s\u001b[0m 13ms/step - loss: 0.8717 - mae: 1.2378 - learning_rate: 8.9125e-08\n",
      "Epoch 21/50\n",
      "\u001b[1m464/464\u001b[0m \u001b[32m━━━━━━━━━━━━━━━━━━━━\u001b[0m\u001b[37m\u001b[0m \u001b[1m7s\u001b[0m 13ms/step - loss: 0.8490 - mae: 1.2201 - learning_rate: 1.0000e-07\n",
      "Epoch 22/50\n",
      "\u001b[1m464/464\u001b[0m \u001b[32m━━━━━━━━━━━━━━━━━━━━\u001b[0m\u001b[37m\u001b[0m \u001b[1m7s\u001b[0m 13ms/step - loss: 0.8491 - mae: 1.2193 - learning_rate: 1.1220e-07\n",
      "Epoch 23/50\n",
      "\u001b[1m464/464\u001b[0m \u001b[32m━━━━━━━━━━━━━━━━━━━━\u001b[0m\u001b[37m\u001b[0m \u001b[1m7s\u001b[0m 13ms/step - loss: 0.8501 - mae: 1.2249 - learning_rate: 1.2589e-07\n",
      "Epoch 24/50\n",
      "\u001b[1m464/464\u001b[0m \u001b[32m━━━━━━━━━━━━━━━━━━━━\u001b[0m\u001b[37m\u001b[0m \u001b[1m7s\u001b[0m 13ms/step - loss: 0.8275 - mae: 1.2030 - learning_rate: 1.4125e-07\n",
      "Epoch 25/50\n",
      "\u001b[1m464/464\u001b[0m \u001b[32m━━━━━━━━━━━━━━━━━━━━\u001b[0m\u001b[37m\u001b[0m \u001b[1m7s\u001b[0m 14ms/step - loss: 0.8214 - mae: 1.2040 - learning_rate: 1.5849e-07\n",
      "Epoch 26/50\n",
      "\u001b[1m464/464\u001b[0m \u001b[32m━━━━━━━━━━━━━━━━━━━━\u001b[0m\u001b[37m\u001b[0m \u001b[1m7s\u001b[0m 13ms/step - loss: 0.8660 - mae: 1.2512 - learning_rate: 1.7783e-07\n",
      "Epoch 27/50\n",
      "\u001b[1m464/464\u001b[0m \u001b[32m━━━━━━━━━━━━━━━━━━━━\u001b[0m\u001b[37m\u001b[0m \u001b[1m7s\u001b[0m 13ms/step - loss: 0.8258 - mae: 1.2055 - learning_rate: 1.9953e-07\n",
      "Epoch 28/50\n",
      "\u001b[1m464/464\u001b[0m \u001b[32m━━━━━━━━━━━━━━━━━━━━\u001b[0m\u001b[37m\u001b[0m \u001b[1m7s\u001b[0m 13ms/step - loss: 0.8223 - mae: 1.2041 - learning_rate: 2.2387e-07\n",
      "Epoch 29/50\n",
      "\u001b[1m464/464\u001b[0m \u001b[32m━━━━━━━━━━━━━━━━━━━━\u001b[0m\u001b[37m\u001b[0m \u001b[1m7s\u001b[0m 13ms/step - loss: 0.8226 - mae: 1.2067 - learning_rate: 2.5119e-07\n",
      "Epoch 30/50\n",
      "\u001b[1m464/464\u001b[0m \u001b[32m━━━━━━━━━━━━━━━━━━━━\u001b[0m\u001b[37m\u001b[0m \u001b[1m7s\u001b[0m 14ms/step - loss: 0.8125 - mae: 1.1979 - learning_rate: 2.8184e-07\n",
      "Epoch 31/50\n",
      "\u001b[1m464/464\u001b[0m \u001b[32m━━━━━━━━━━━━━━━━━━━━\u001b[0m\u001b[37m\u001b[0m \u001b[1m7s\u001b[0m 13ms/step - loss: 0.8973 - mae: 1.2959 - learning_rate: 3.1623e-07\n",
      "Epoch 32/50\n",
      "\u001b[1m464/464\u001b[0m \u001b[32m━━━━━━━━━━━━━━━━━━━━\u001b[0m\u001b[37m\u001b[0m \u001b[1m7s\u001b[0m 13ms/step - loss: 0.8453 - mae: 1.2340 - learning_rate: 3.5481e-07\n",
      "Epoch 33/50\n",
      "\u001b[1m464/464\u001b[0m \u001b[32m━━━━━━━━━━━━━━━━━━━━\u001b[0m\u001b[37m\u001b[0m \u001b[1m7s\u001b[0m 13ms/step - loss: 0.9889 - mae: 1.3898 - learning_rate: 3.9811e-07\n",
      "Epoch 34/50\n",
      "\u001b[1m464/464\u001b[0m \u001b[32m━━━━━━━━━━━━━━━━━━━━\u001b[0m\u001b[37m\u001b[0m \u001b[1m7s\u001b[0m 13ms/step - loss: 0.9068 - mae: 1.3090 - learning_rate: 4.4668e-07\n",
      "Epoch 35/50\n",
      "\u001b[1m464/464\u001b[0m \u001b[32m━━━━━━━━━━━━━━━━━━━━\u001b[0m\u001b[37m\u001b[0m \u001b[1m7s\u001b[0m 14ms/step - loss: 0.8823 - mae: 1.2839 - learning_rate: 5.0119e-07\n",
      "Epoch 36/50\n",
      "\u001b[1m464/464\u001b[0m \u001b[32m━━━━━━━━━━━━━━━━━━━━\u001b[0m\u001b[37m\u001b[0m \u001b[1m7s\u001b[0m 13ms/step - loss: 0.9327 - mae: 1.3399 - learning_rate: 5.6234e-07\n",
      "Epoch 37/50\n",
      "\u001b[1m464/464\u001b[0m \u001b[32m━━━━━━━━━━━━━━━━━━━━\u001b[0m\u001b[37m\u001b[0m \u001b[1m7s\u001b[0m 13ms/step - loss: 1.0802 - mae: 1.5057 - learning_rate: 6.3096e-07\n",
      "Epoch 38/50\n",
      "\u001b[1m464/464\u001b[0m \u001b[32m━━━━━━━━━━━━━━━━━━━━\u001b[0m\u001b[37m\u001b[0m \u001b[1m7s\u001b[0m 13ms/step - loss: 0.9098 - mae: 1.3156 - learning_rate: 7.0795e-07\n",
      "Epoch 39/50\n",
      "\u001b[1m464/464\u001b[0m \u001b[32m━━━━━━━━━━━━━━━━━━━━\u001b[0m\u001b[37m\u001b[0m \u001b[1m7s\u001b[0m 14ms/step - loss: 1.0081 - mae: 1.4249 - learning_rate: 7.9433e-07\n",
      "Epoch 40/50\n",
      "\u001b[1m464/464\u001b[0m \u001b[32m━━━━━━━━━━━━━━━━━━━━\u001b[0m\u001b[37m\u001b[0m \u001b[1m7s\u001b[0m 13ms/step - loss: 1.0701 - mae: 1.4895 - learning_rate: 8.9125e-07\n",
      "Epoch 41/50\n",
      "\u001b[1m464/464\u001b[0m \u001b[32m━━━━━━━━━━━━━━━━━━━━\u001b[0m\u001b[37m\u001b[0m \u001b[1m7s\u001b[0m 13ms/step - loss: 0.9443 - mae: 1.3478 - learning_rate: 1.0000e-06\n",
      "Epoch 42/50\n",
      "\u001b[1m464/464\u001b[0m \u001b[32m━━━━━━━━━━━━━━━━━━━━\u001b[0m\u001b[37m\u001b[0m \u001b[1m7s\u001b[0m 13ms/step - loss: 1.0445 - mae: 1.4548 - learning_rate: 1.1220e-06\n",
      "Epoch 43/50\n",
      "\u001b[1m464/464\u001b[0m \u001b[32m━━━━━━━━━━━━━━━━━━━━\u001b[0m\u001b[37m\u001b[0m \u001b[1m7s\u001b[0m 13ms/step - loss: 1.0467 - mae: 1.4620 - learning_rate: 1.2589e-06\n",
      "Epoch 44/50\n",
      "\u001b[1m464/464\u001b[0m \u001b[32m━━━━━━━━━━━━━━━━━━━━\u001b[0m\u001b[37m\u001b[0m \u001b[1m7s\u001b[0m 14ms/step - loss: 1.1880 - mae: 1.6150 - learning_rate: 1.4125e-06\n",
      "Epoch 45/50\n",
      "\u001b[1m464/464\u001b[0m \u001b[32m━━━━━━━━━━━━━━━━━━━━\u001b[0m\u001b[37m\u001b[0m \u001b[1m7s\u001b[0m 13ms/step - loss: 1.3067 - mae: 1.7454 - learning_rate: 1.5849e-06\n",
      "Epoch 46/50\n",
      "\u001b[1m464/464\u001b[0m \u001b[32m━━━━━━━━━━━━━━━━━━━━\u001b[0m\u001b[37m\u001b[0m \u001b[1m7s\u001b[0m 13ms/step - loss: 1.1654 - mae: 1.5904 - learning_rate: 1.7783e-06\n",
      "Epoch 47/50\n",
      "\u001b[1m464/464\u001b[0m \u001b[32m━━━━━━━━━━━━━━━━━━━━\u001b[0m\u001b[37m\u001b[0m \u001b[1m7s\u001b[0m 13ms/step - loss: 1.1361 - mae: 1.5549 - learning_rate: 1.9953e-06\n",
      "Epoch 48/50\n",
      "\u001b[1m464/464\u001b[0m \u001b[32m━━━━━━━━━━━━━━━━━━━━\u001b[0m\u001b[37m\u001b[0m \u001b[1m7s\u001b[0m 13ms/step - loss: 1.2501 - mae: 1.6718 - learning_rate: 2.2387e-06\n",
      "Epoch 49/50\n",
      "\u001b[1m464/464\u001b[0m \u001b[32m━━━━━━━━━━━━━━━━━━━━\u001b[0m\u001b[37m\u001b[0m \u001b[1m7s\u001b[0m 14ms/step - loss: 1.3539 - mae: 1.7847 - learning_rate: 2.5119e-06\n",
      "Epoch 50/50\n",
      "\u001b[1m464/464\u001b[0m \u001b[32m━━━━━━━━━━━━━━━━━━━━\u001b[0m\u001b[37m\u001b[0m \u001b[1m7s\u001b[0m 13ms/step - loss: 1.6177 - mae: 2.0612 - learning_rate: 2.8184e-06\n"
     ]
    }
   ],
   "source": [
    "history = model.fit(x_tr, callbacks = [lr_scheduler], epochs = 50)"
   ]
  },
  {
   "cell_type": "code",
   "execution_count": 16,
   "id": "316509b2",
   "metadata": {
    "execution": {
     "iopub.execute_input": "2025-05-13T13:09:35.895142Z",
     "iopub.status.busy": "2025-05-13T13:09:35.894795Z",
     "iopub.status.idle": "2025-05-13T13:09:35.898608Z",
     "shell.execute_reply": "2025-05-13T13:09:35.898000Z"
    },
    "papermill": {
     "duration": 0.289827,
     "end_time": "2025-05-13T13:09:35.899796",
     "exception": false,
     "start_time": "2025-05-13T13:09:35.609969",
     "status": "completed"
    },
    "tags": []
   },
   "outputs": [],
   "source": [
    "import matplotlib.pyplot as plt"
   ]
  },
  {
   "cell_type": "code",
   "execution_count": 17,
   "id": "ad920d82",
   "metadata": {
    "execution": {
     "iopub.execute_input": "2025-05-13T13:09:36.462071Z",
     "iopub.status.busy": "2025-05-13T13:09:36.461734Z",
     "iopub.status.idle": "2025-05-13T13:09:37.317788Z",
     "shell.execute_reply": "2025-05-13T13:09:37.317069Z"
    },
    "papermill": {
     "duration": 1.138792,
     "end_time": "2025-05-13T13:09:37.319160",
     "exception": false,
     "start_time": "2025-05-13T13:09:36.180368",
     "status": "completed"
    },
    "tags": []
   },
   "outputs": [
    {
     "data": {
      "text/plain": [
       "(1e-08, 0.001, 0.5, 2.0)"
      ]
     },
     "execution_count": 17,
     "metadata": {},
     "output_type": "execute_result"
    },
    {
     "data": {
      "image/png": "[encoded data removed]",
      "text/plain": [
       "<Figure size 640x480 with 1 Axes>"
      ]
     },
     "metadata": {},
     "output_type": "display_data"
    }
   ],
   "source": [
    "lrs = 1e-8 * (10 ** (np.arange(50) / 20))\n",
    "plt.semilogx(lrs, history.history[\"loss\"])\n",
    "plt.axis([1e-8, 1e-3, 0.5, 2])"
   ]
  },
  {
   "cell_type": "code",
   "execution_count": 18,
   "id": "549d9102",
   "metadata": {
    "execution": {
     "iopub.execute_input": "2025-05-13T13:09:37.945655Z",
     "iopub.status.busy": "2025-05-13T13:09:37.945352Z",
     "iopub.status.idle": "2025-05-13T13:09:37.964182Z",
     "shell.execute_reply": "2025-05-13T13:09:37.963384Z"
    },
    "papermill": {
     "duration": 0.304728,
     "end_time": "2025-05-13T13:09:37.965483",
     "exception": false,
     "start_time": "2025-05-13T13:09:37.660755",
     "status": "completed"
    },
    "tags": []
   },
   "outputs": [],
   "source": [
    "optimizer = tf.keras.optimizers.SGD(learning_rate = 2*1e-7, momentum = 0.9)\n",
    "model.compile(optimizer = optimizer, loss = tf.keras.losses.Huber, metrics = ['mae'])"
   ]
  },
  {
   "cell_type": "code",
   "execution_count": 19,
   "id": "ca3259cf",
   "metadata": {
    "execution": {
     "iopub.execute_input": "2025-05-13T13:09:38.533110Z",
     "iopub.status.busy": "2025-05-13T13:09:38.532423Z",
     "iopub.status.idle": "2025-05-13T13:09:38.536310Z",
     "shell.execute_reply": "2025-05-13T13:09:38.535690Z"
    },
    "papermill": {
     "duration": 0.288734,
     "end_time": "2025-05-13T13:09:38.537494",
     "exception": false,
     "start_time": "2025-05-13T13:09:38.248760",
     "status": "completed"
    },
    "tags": []
   },
   "outputs": [],
   "source": [
    "es = tf.keras.callbacks.EarlyStopping(monitor = 'val_loss', patience = 5, restore_best_weights = True)"
   ]
  },
  {
   "cell_type": "code",
   "execution_count": 20,
   "id": "f03d53b2",
   "metadata": {
    "execution": {
     "iopub.execute_input": "2025-05-13T13:09:39.154423Z",
     "iopub.status.busy": "2025-05-13T13:09:39.153572Z",
     "iopub.status.idle": "2025-05-13T13:11:18.616484Z",
     "shell.execute_reply": "2025-05-13T13:11:18.615755Z"
    },
    "papermill": {
     "duration": 99.743851,
     "end_time": "2025-05-13T13:11:18.617742",
     "exception": false,
     "start_time": "2025-05-13T13:09:38.873891",
     "status": "completed"
    },
    "tags": []
   },
   "outputs": [
    {
     "name": "stdout",
     "output_type": "stream",
     "text": [
      "Epoch 1/50\n",
      "\u001b[1m464/464\u001b[0m \u001b[32m━━━━━━━━━━━━━━━━━━━━\u001b[0m\u001b[37m\u001b[0m \u001b[1m12s\u001b[0m 16ms/step - loss: 0.7587 - mae: 1.1178 - val_loss: 0.7049 - val_mae: 1.0955\n",
      "Epoch 2/50\n",
      "\u001b[1m464/464\u001b[0m \u001b[32m━━━━━━━━━━━━━━━━━━━━\u001b[0m\u001b[37m\u001b[0m \u001b[1m7s\u001b[0m 15ms/step - loss: 0.5704 - mae: 0.9074 - val_loss: 0.7062 - val_mae: 1.0968\n",
      "Epoch 3/50\n",
      "\u001b[1m464/464\u001b[0m \u001b[32m━━━━━━━━━━━━━━━━━━━━\u001b[0m\u001b[37m\u001b[0m \u001b[1m7s\u001b[0m 14ms/step - loss: 0.5706 - mae: 0.9095 - val_loss: 0.7219 - val_mae: 1.1177\n",
      "Epoch 4/50\n",
      "\u001b[1m464/464\u001b[0m \u001b[32m━━━━━━━━━━━━━━━━━━━━\u001b[0m\u001b[37m\u001b[0m \u001b[1m7s\u001b[0m 14ms/step - loss: 0.5608 - mae: 0.8890 - val_loss: 0.7040 - val_mae: 1.0982\n",
      "Epoch 5/50\n",
      "\u001b[1m464/464\u001b[0m \u001b[32m━━━━━━━━━━━━━━━━━━━━\u001b[0m\u001b[37m\u001b[0m \u001b[1m7s\u001b[0m 14ms/step - loss: 0.5404 - mae: 0.8782 - val_loss: 0.6964 - val_mae: 1.0892\n",
      "Epoch 6/50\n",
      "\u001b[1m464/464\u001b[0m \u001b[32m━━━━━━━━━━━━━━━━━━━━\u001b[0m\u001b[37m\u001b[0m \u001b[1m7s\u001b[0m 14ms/step - loss: 0.5168 - mae: 0.8467 - val_loss: 0.8090 - val_mae: 1.2110\n",
      "Epoch 7/50\n",
      "\u001b[1m464/464\u001b[0m \u001b[32m━━━━━━━━━━━━━━━━━━━━\u001b[0m\u001b[37m\u001b[0m \u001b[1m7s\u001b[0m 14ms/step - loss: 0.5281 - mae: 0.8620 - val_loss: 0.7412 - val_mae: 1.1341\n",
      "Epoch 8/50\n",
      "\u001b[1m464/464\u001b[0m \u001b[32m━━━━━━━━━━━━━━━━━━━━\u001b[0m\u001b[37m\u001b[0m \u001b[1m7s\u001b[0m 14ms/step - loss: 0.5253 - mae: 0.8549 - val_loss: 0.6904 - val_mae: 1.0819\n",
      "Epoch 9/50\n",
      "\u001b[1m464/464\u001b[0m \u001b[32m━━━━━━━━━━━━━━━━━━━━\u001b[0m\u001b[37m\u001b[0m \u001b[1m7s\u001b[0m 14ms/step - loss: 0.5364 - mae: 0.8721 - val_loss: 0.7937 - val_mae: 1.2050\n",
      "Epoch 10/50\n",
      "\u001b[1m464/464\u001b[0m \u001b[32m━━━━━━━━━━━━━━━━━━━━\u001b[0m\u001b[37m\u001b[0m \u001b[1m7s\u001b[0m 14ms/step - loss: 0.5338 - mae: 0.8639 - val_loss: 0.7783 - val_mae: 1.1768\n",
      "Epoch 11/50\n",
      "\u001b[1m464/464\u001b[0m \u001b[32m━━━━━━━━━━━━━━━━━━━━\u001b[0m\u001b[37m\u001b[0m \u001b[1m7s\u001b[0m 15ms/step - loss: 0.5192 - mae: 0.8547 - val_loss: 0.6957 - val_mae: 1.0886\n",
      "Epoch 12/50\n",
      "\u001b[1m464/464\u001b[0m \u001b[32m━━━━━━━━━━━━━━━━━━━━\u001b[0m\u001b[37m\u001b[0m \u001b[1m7s\u001b[0m 14ms/step - loss: 0.5494 - mae: 0.8882 - val_loss: 0.7562 - val_mae: 1.1627\n",
      "Epoch 13/50\n",
      "\u001b[1m464/464\u001b[0m \u001b[32m━━━━━━━━━━━━━━━━━━━━\u001b[0m\u001b[37m\u001b[0m \u001b[1m7s\u001b[0m 14ms/step - loss: 0.5266 - mae: 0.8620 - val_loss: 0.6973 - val_mae: 1.0831\n"
     ]
    },
    {
     "data": {
      "text/plain": [
       "<keras.src.callbacks.history.History at 0x7b760fbadb90>"
      ]
     },
     "execution_count": 20,
     "metadata": {},
     "output_type": "execute_result"
    }
   ],
   "source": [
    "model.fit(x_tr,validation_data = x_ts, epochs = 50, callbacks = [es])"
   ]
  },
  {
   "cell_type": "code",
   "execution_count": 21,
   "id": "8fb2059a",
   "metadata": {
    "execution": {
     "iopub.execute_input": "2025-05-13T13:11:19.395759Z",
     "iopub.status.busy": "2025-05-13T13:11:19.395457Z",
     "iopub.status.idle": "2025-05-13T13:13:01.897637Z",
     "shell.execute_reply": "2025-05-13T13:13:01.896959Z"
    },
    "papermill": {
     "duration": 102.861183,
     "end_time": "2025-05-13T13:13:01.899255",
     "exception": false,
     "start_time": "2025-05-13T13:11:19.038072",
     "status": "completed"
    },
    "scrolled": true,
    "tags": []
   },
   "outputs": [],
   "source": [
    "forecast = []\n",
    "actual_val = []\n",
    "x_ts = tf.data.Dataset.from_tensor_slices(pd.Series(x_test).astype(np.float32).values).window(window_size+1,shift=1,drop_remainder=True).flat_map(lambda e:e.batch(window_size+1)).map(lambda f: (f[:-1],f[-1]))\n",
    "for X,y in x_ts:\n",
    "    forecast.append(model.predict(X[np.newaxis],verbose=0))\n",
    "    actual_val.append(y)"
   ]
  },
  {
   "cell_type": "code",
   "execution_count": 22,
   "id": "22a4e924",
   "metadata": {
    "execution": {
     "iopub.execute_input": "2025-05-13T13:13:02.667873Z",
     "iopub.status.busy": "2025-05-13T13:13:02.667528Z",
     "iopub.status.idle": "2025-05-13T13:13:02.681923Z",
     "shell.execute_reply": "2025-05-13T13:13:02.681037Z"
    },
    "papermill": {
     "duration": 0.429339,
     "end_time": "2025-05-13T13:13:02.683336",
     "exception": false,
     "start_time": "2025-05-13T13:13:02.253997",
     "status": "completed"
    },
    "tags": []
   },
   "outputs": [
    {
     "data": {
      "text/plain": [
       "1.0818534"
      ]
     },
     "execution_count": 22,
     "metadata": {},
     "output_type": "execute_result"
    }
   ],
   "source": [
    "results = np.array(forecast)[:,0,0]\n",
    "actual_val = np.array(actual_val)[:]\n",
    "abs(results-actual_val).mean()"
   ]
  },
  {
   "cell_type": "code",
   "execution_count": 23,
   "id": "6d7a688a",
   "metadata": {
    "execution": {
     "iopub.execute_input": "2025-05-13T13:13:03.398461Z",
     "iopub.status.busy": "2025-05-13T13:13:03.398160Z",
     "iopub.status.idle": "2025-05-13T13:13:03.403908Z",
     "shell.execute_reply": "2025-05-13T13:13:03.403156Z"
    },
    "papermill": {
     "duration": 0.365932,
     "end_time": "2025-05-13T13:13:03.405104",
     "exception": false,
     "start_time": "2025-05-13T13:13:03.039172",
     "status": "completed"
    },
    "tags": []
   },
   "outputs": [
    {
     "data": {
      "text/plain": [
       "44.02998971546095"
      ]
     },
     "execution_count": 23,
     "metadata": {},
     "output_type": "execute_result"
    }
   ],
   "source": [
    "wti_series.mean()"
   ]
  },
  {
   "cell_type": "code",
   "execution_count": 24,
   "id": "18872c93",
   "metadata": {
    "execution": {
     "iopub.execute_input": "2025-05-13T13:13:04.172932Z",
     "iopub.status.busy": "2025-05-13T13:13:04.172597Z",
     "iopub.status.idle": "2025-05-13T13:13:04.177497Z",
     "shell.execute_reply": "2025-05-13T13:13:04.176852Z"
    },
    "papermill": {
     "duration": 0.417859,
     "end_time": "2025-05-13T13:13:04.178790",
     "exception": false,
     "start_time": "2025-05-13T13:13:03.760931",
     "status": "completed"
    },
    "tags": []
   },
   "outputs": [
    {
     "data": {
      "text/plain": [
       "0.02464234531534253"
      ]
     },
     "execution_count": 24,
     "metadata": {},
     "output_type": "execute_result"
    }
   ],
   "source": [
    "1.085/44.0299 "
   ]
  }
 ],
 "metadata": {
  "kaggle": {
   "accelerator": "none",
   "dataSources": [
    {
     "datasetId": 922601,
     "sourceId": 1561936,
     "sourceType": "datasetVersion"
    }
   ],
   "dockerImageVersionId": 31040,
   "isGpuEnabled": false,
   "isInternetEnabled": true,
   "language": "python",
   "sourceType": "notebook"
  },
  "kernelspec": {
   "display_name": "Python 3",
   "language": "python",
   "name": "python3"
  },
  "language_info": {
   "codemirror_mode": {
    "name": "ipython",
    "version": 3
   },
   "file_extension": ".py",
   "mimetype": "text/x-python",
   "name": "python",
   "nbconvert_exporter": "python",
   "pygments_lexer": "ipython3",
   "version": "3.11.11"
  },
  "papermill": {
   "default_parameters": {},
   "duration": 579.322614,
   "end_time": "2025-05-13T13:13:07.331554",
   "environment_variables": {},
   "exception": null,
   "input_path": "__notebook__.ipynb",
   "output_path": "__notebook__.ipynb",
   "parameters": {},
   "start_time": "2025-05-13T13:03:28.008940",
   "version": "2.6.0"
  }
 },
 "nbformat": 4,
 "nbformat_minor": 5
}
